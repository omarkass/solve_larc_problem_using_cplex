{
 "cells": [
  {
   "cell_type": "code",
   "execution_count": 1,
   "metadata": {},
   "outputs": [],
   "source": [
    "import networkx as nx\n",
    "import numpy as np\n",
    "import matplotlib.pyplot as plt\n",
    "from docplex.mp.model import Model\n",
    "import docplex.mp.solution as Solucion\n",
    "import queue  \n",
    "from collections import namedtuple\n",
    "from dijkstar import Graph, find_path\n",
    "import random\n"
   ]
  },
  {
   "cell_type": "markdown",
   "metadata": {},
   "source": [
    "## get all edges passed by node"
   ]
  },
  {
   "cell_type": "code",
   "execution_count": 2,
   "metadata": {},
   "outputs": [],
   "source": [
    "def get_edges (node) :\n",
    "    eds = []\n",
    "    for n in edges :\n",
    "        if (n[0] == node):\n",
    "            eds.append(n)\n",
    "    return eds        "
   ]
  },
  {
   "cell_type": "markdown",
   "metadata": {},
   "source": [
    "## return all pathes between 2 nodes"
   ]
  },
  {
   "cell_type": "code",
   "execution_count": 3,
   "metadata": {},
   "outputs": [],
   "source": [
    "def total_costs (start , end  , nodes_passed  ):\n",
    "    path = []\n",
    "    cost = 0\n",
    "    ##copy list by value no reference for the nodes that i have already passed\n",
    "    my_nodes = nodes_passed.copy()\n",
    "    ###check if by a node have already passed\n",
    "    bol = start in nodes_passed\n",
    "    if(bol == True) :\n",
    "            return False ,[]\n",
    "    elif start == end :\n",
    "            return (True , [tuple([end,end])])\n",
    "    my_nodes.append(start)\n",
    "    ###  \n",
    "    reached = False\n",
    "    for n in get_edges(start) :\n",
    "        ## lock for path for every edge that start have\n",
    "        find , reached_pathed = total_costs(n[1],end,my_nodes)\n",
    "        ### check if by this edge have found path to end and if yes save the path + this edge \n",
    "        if find == True:\n",
    "            reached = True\n",
    "            lists = False\n",
    "            ##add the edge to all pathes found\n",
    "            for o in reached_pathed :\n",
    "                if type(o) == list:\n",
    "                    lists = True \n",
    "            #check if reached_pathed has more than on path\n",
    "            if lists:\n",
    "                for p in range (len (reached_pathed)):\n",
    "                    reached_pathed[p].append(n)\n",
    "            else :    \n",
    "                reached_pathed.append(n)      \n",
    "            ### if the path is empty and reached_pathed[0] is of type list then path = reached_pathed\n",
    "            if (len(path) == 0 and type (reached_pathed[0]) == list):\n",
    "                path = reached_pathed\n",
    "            else :    \n",
    "                #check if reached_pathed is list of lists\n",
    "                if (type (reached_pathed[0]) == list):\n",
    "                    for p in reached_pathed:\n",
    "                         path.append(p)\n",
    "                else:        \n",
    "                    path.append(reached_pathed)    \n",
    "    return reached ,path"
   ]
  },
  {
   "cell_type": "markdown",
   "metadata": {},
   "source": [
    "## return the cost of the backup path passed in pathes"
   ]
  },
  {
   "cell_type": "code",
   "execution_count": 4,
   "metadata": {},
   "outputs": [],
   "source": [
    "def cost_backup_path (pathes ,dis):\n",
    "    path_num = len(pathes)\n",
    "    cost_total = 0\n",
    "    for path in pathes:\n",
    "        #print (path)\n",
    "        for p in range(1,len(path)):\n",
    "          #print(path[p])  \n",
    "          cost_total += dis[path[p]]\n",
    "    return cost_total/path_num"
   ]
  },
  {
   "cell_type": "markdown",
   "metadata": {},
   "source": [
    "## return the cost of the pathes in pathes"
   ]
  },
  {
   "cell_type": "code",
   "execution_count": 5,
   "metadata": {},
   "outputs": [],
   "source": [
    "def get_pathes_costs (pathes ,dis):\n",
    "    paths_cost = []\n",
    "    for path in pathes:\n",
    "        cost = 0\n",
    "        for p in range(1,len(path)):  \n",
    "          cost += dis[path[p]]\n",
    "        paths_cost.append(cost)\n",
    "    return paths_cost"
   ]
  },
  {
   "cell_type": "markdown",
   "metadata": {},
   "source": [
    "## create  graph "
   ]
  },
  {
   "cell_type": "code",
   "execution_count": 7,
   "metadata": {},
   "outputs": [
    {
     "name": "stdout",
     "output_type": "stream",
     "text": [
      "[0, 1, 2, 3, 4, 5]\n",
      "{(0, 1): 1, (1, 2): 1, (2, 3): 1, (3, 4): 1, (4, 5): 1, (1, 0): 1, (2, 1): 1, (3, 2): 1, (4, 3): 1, (5, 4): 1, (0, 3): 1, (5, 0): 1, (0, 5): 1, (3, 0): 1}\n"
     ]
    }
   ],
   "source": [
    "\n",
    "\n",
    "l =[0,1,2,3,4]\n",
    "edges = [(i,i+1) for i in l]\n",
    "nodes = list(range(0,6))\n",
    "edges1 = [(i,1+i) for i in l]\n",
    "for ed in edges1:\n",
    "    edges.append(tuple([ed[1],ed[0]]))\n",
    "edges.append(tuple([0,3]))\n",
    "edges.append(tuple([5,0]))\n",
    "edges.append(tuple([0,5]))\n",
    "edges.append(tuple([3,0]))\n",
    "\n",
    "distences = {i: 1 for i in edges}\n",
    "print (nodes)\n",
    "print  (distences)"
   ]
  },
  {
   "cell_type": "markdown",
   "metadata": {},
   "source": [
    "## creating  graph using dijkstar class "
   ]
  },
  {
   "cell_type": "code",
   "execution_count": 8,
   "metadata": {},
   "outputs": [],
   "source": [
    "starter = nodes[0]\n",
    "end = nodes[-1]\n",
    "node_pathes = dict()\n",
    "nodes_passed = []\n",
    "graph = Graph()\n",
    "cost_func = lambda u, v, e, prev_e: e['cost']\n",
    "for ed in distences:\n",
    "    graph.add_edge(ed[0], ed[1], {'cost':distences[ed] })  \n"
   ]
  },
  {
   "cell_type": "markdown",
   "metadata": {},
   "source": [
    "## get the cost of backup path and primery path of all nodes using dijkstar class"
   ]
  },
  {
   "cell_type": "code",
   "execution_count": 9,
   "metadata": {},
   "outputs": [],
   "source": [
    "backup_costs = {}\n",
    "primery_costs = {}\n",
    "for i in nodes:\n",
    "    for i1 in nodes:\n",
    "        if (i1 != i):\n",
    "            primery_costs[(i,i1)] = list(find_path(graph,i , i1, cost_func=cost_func))[-1]\n",
    "            total = total_costs (i , i1  , nodes_passed)\n",
    "            backup_costs[(i,i1)] = cost_backup_path (total[1],distences)"
   ]
  },
  {
   "cell_type": "markdown",
   "metadata": {},
   "source": [
    "## get the cost of backup path and primery path of all nodes without using dijkstar class (another manner)"
   ]
  },
  {
   "cell_type": "code",
   "execution_count": 10,
   "metadata": {},
   "outputs": [],
   "source": [
    "backup_costs = {}\n",
    "primery_costs = {}\n",
    "for i in nodes:\n",
    "    for i1 in nodes:\n",
    "        if (i1 != i):\n",
    "            total = total_costs (i , i1  , nodes_passed)\n",
    "            pathes = get_pathes_costs (total[1],distences)\n",
    "            primery_costs[(i,i1)] = min (pathes)\n",
    "            backup_costs[(i,i1)] = sum(pathes)/len(pathes)"
   ]
  },
  {
   "cell_type": "code",
   "execution_count": 11,
   "metadata": {},
   "outputs": [],
   "source": [
    "for i,i1 in zip (nodes,nodes):\n",
    "    primery_costs[(i,i1)]=0\n",
    "    backup_costs[(i,i1)]=0"
   ]
  },
  {
   "cell_type": "markdown",
   "metadata": {},
   "source": [
    "## initialize variables "
   ]
  },
  {
   "cell_type": "code",
   "execution_count": 14,
   "metadata": {},
   "outputs": [],
   "source": [
    "controllers = nodes\n",
    "switches = nodes\n",
    "n_controllers = 3\n",
    "alpha1 = 0.3\n",
    "alpha2 = 0.7"
   ]
  },
  {
   "cell_type": "markdown",
   "metadata": {},
   "source": [
    "## Create cplex model"
   ]
  },
  {
   "cell_type": "code",
   "execution_count": 15,
   "metadata": {},
   "outputs": [],
   "source": [
    "mdl = Model(\"larc\")"
   ]
  },
  {
   "cell_type": "code",
   "execution_count": 16,
   "metadata": {},
   "outputs": [],
   "source": [
    "alledges=[(i,i1) for i in nodes for i1 in nodes ]"
   ]
  },
  {
   "cell_type": "code",
   "execution_count": 17,
   "metadata": {},
   "outputs": [],
   "source": [
    "switch=mdl.binary_var_dict(nodes,name='switch')\n",
    "cont=mdl.binary_var_dict(nodes,name='cont')\n",
    "cost =mdl.continuous_var_dict(nodes,name='cost')\n",
    "yik =mdl.binary_var_dict(zip(nodes,nodes),name='yik')\n",
    "xik = mdl.binary_var_dict(alledges ,name='xik')"
   ]
  },
  {
   "cell_type": "markdown",
   "metadata": {},
   "source": [
    "## define objective function "
   ]
  },
  {
   "cell_type": "code",
   "execution_count": 18,
   "metadata": {},
   "outputs": [],
   "source": [
    "mdl.minimize(mdl.sum((cont[con]*backup_costs[(con1,sw)]*alpha2*xik[sw,con1]) + (xik[sw,con1]*alpha1*cont[con]*primery_costs[(con1,sw)]) for con in nodes for sw in nodes for con1 in nodes))"
   ]
  },
  {
   "cell_type": "markdown",
   "metadata": {},
   "source": [
    "## define  constraints"
   ]
  },
  {
   "cell_type": "code",
   "execution_count": 20,
   "metadata": {},
   "outputs": [
    {
     "data": {
      "text/plain": [
       "[docplex.mp.constr.IndicatorConstraint[](cont_0,xik_0_0 == 0,true=0),\n",
       " docplex.mp.constr.IndicatorConstraint[](cont_0,xik_1_0 == 0,true=0),\n",
       " docplex.mp.constr.IndicatorConstraint[](cont_0,xik_2_0 == 0,true=0),\n",
       " docplex.mp.constr.IndicatorConstraint[](cont_0,xik_3_0 == 0,true=0),\n",
       " docplex.mp.constr.IndicatorConstraint[](cont_0,xik_4_0 == 0,true=0),\n",
       " docplex.mp.constr.IndicatorConstraint[](cont_0,xik_5_0 == 0,true=0),\n",
       " docplex.mp.constr.IndicatorConstraint[](cont_1,xik_0_1 == 0,true=0),\n",
       " docplex.mp.constr.IndicatorConstraint[](cont_1,xik_1_1 == 0,true=0),\n",
       " docplex.mp.constr.IndicatorConstraint[](cont_1,xik_2_1 == 0,true=0),\n",
       " docplex.mp.constr.IndicatorConstraint[](cont_1,xik_3_1 == 0,true=0),\n",
       " docplex.mp.constr.IndicatorConstraint[](cont_1,xik_4_1 == 0,true=0),\n",
       " docplex.mp.constr.IndicatorConstraint[](cont_1,xik_5_1 == 0,true=0),\n",
       " docplex.mp.constr.IndicatorConstraint[](cont_2,xik_0_2 == 0,true=0),\n",
       " docplex.mp.constr.IndicatorConstraint[](cont_2,xik_1_2 == 0,true=0),\n",
       " docplex.mp.constr.IndicatorConstraint[](cont_2,xik_2_2 == 0,true=0),\n",
       " docplex.mp.constr.IndicatorConstraint[](cont_2,xik_3_2 == 0,true=0),\n",
       " docplex.mp.constr.IndicatorConstraint[](cont_2,xik_4_2 == 0,true=0),\n",
       " docplex.mp.constr.IndicatorConstraint[](cont_2,xik_5_2 == 0,true=0),\n",
       " docplex.mp.constr.IndicatorConstraint[](cont_3,xik_0_3 == 0,true=0),\n",
       " docplex.mp.constr.IndicatorConstraint[](cont_3,xik_1_3 == 0,true=0),\n",
       " docplex.mp.constr.IndicatorConstraint[](cont_3,xik_2_3 == 0,true=0),\n",
       " docplex.mp.constr.IndicatorConstraint[](cont_3,xik_3_3 == 0,true=0),\n",
       " docplex.mp.constr.IndicatorConstraint[](cont_3,xik_4_3 == 0,true=0),\n",
       " docplex.mp.constr.IndicatorConstraint[](cont_3,xik_5_3 == 0,true=0),\n",
       " docplex.mp.constr.IndicatorConstraint[](cont_4,xik_0_4 == 0,true=0),\n",
       " docplex.mp.constr.IndicatorConstraint[](cont_4,xik_1_4 == 0,true=0),\n",
       " docplex.mp.constr.IndicatorConstraint[](cont_4,xik_2_4 == 0,true=0),\n",
       " docplex.mp.constr.IndicatorConstraint[](cont_4,xik_3_4 == 0,true=0),\n",
       " docplex.mp.constr.IndicatorConstraint[](cont_4,xik_4_4 == 0,true=0),\n",
       " docplex.mp.constr.IndicatorConstraint[](cont_4,xik_5_4 == 0,true=0),\n",
       " docplex.mp.constr.IndicatorConstraint[](cont_5,xik_0_5 == 0,true=0),\n",
       " docplex.mp.constr.IndicatorConstraint[](cont_5,xik_1_5 == 0,true=0),\n",
       " docplex.mp.constr.IndicatorConstraint[](cont_5,xik_2_5 == 0,true=0),\n",
       " docplex.mp.constr.IndicatorConstraint[](cont_5,xik_3_5 == 0,true=0),\n",
       " docplex.mp.constr.IndicatorConstraint[](cont_5,xik_4_5 == 0,true=0),\n",
       " docplex.mp.constr.IndicatorConstraint[](cont_5,xik_5_5 == 0,true=0)]"
      ]
     },
     "execution_count": 20,
     "metadata": {},
     "output_type": "execute_result"
    }
   ],
   "source": [
    "mdl.add_constraint(mdl.sum(cont[i] for i in nodes)==n_controllers )\n",
    "for i in nodes :\n",
    "    mdl.add_constraint(mdl.sum(xik[i,j] for j in nodes) == 1)\n",
    "mdl.add_indicator_constraints(mdl.add_indicator(cont[j],xik[i,j] == 0 , 0) for j in nodes for i in nodes ) "
   ]
  },
  {
   "cell_type": "markdown",
   "metadata": {},
   "source": [
    "## solve"
   ]
  },
  {
   "cell_type": "code",
   "execution_count": 21,
   "metadata": {},
   "outputs": [
    {
     "name": "stdout",
     "output_type": "stream",
     "text": [
      "CPXPARAM_Read_DataCheck                          1\n",
      "Tried aggregator 1 time.\n",
      "MIP Presolve eliminated 36 rows and 18 columns.\n",
      "MIP Presolve added 360 rows and 180 columns.\n",
      "Reduced MIP has 403 rows, 222 columns, and 834 nonzeros.\n",
      "Reduced MIP has 222 binaries, 0 generals, 0 SOSs, and 0 indicators.\n",
      "Presolve time = 0.00 sec. (0.18 ticks)\n",
      "Found incumbent of value 41.000000 after 0.00 sec. (0.32 ticks)\n",
      "Probing time = 0.00 sec. (0.17 ticks)\n",
      "Tried aggregator 2 times.\n",
      "MIP Presolve eliminated 180 rows and 0 columns.\n",
      "MIP Presolve modified 30 coefficients.\n",
      "Aggregator did 30 substitutions.\n",
      "Reduced MIP has 193 rows, 192 columns, and 564 nonzeros.\n",
      "Reduced MIP has 192 binaries, 0 generals, 0 SOSs, and 0 indicators.\n",
      "Presolve time = 0.01 sec. (0.89 ticks)\n",
      "Probing time = 0.00 sec. (0.13 ticks)\n",
      "Tried aggregator 1 time.\n",
      "Reduced MIP has 193 rows, 192 columns, and 564 nonzeros.\n",
      "Reduced MIP has 192 binaries, 0 generals, 0 SOSs, and 0 indicators.\n",
      "Presolve time = 0.00 sec. (0.65 ticks)\n",
      "Probing time = 0.00 sec. (0.13 ticks)\n",
      "Clique table members: 42.\n",
      "MIP emphasis: balance optimality and feasibility.\n",
      "MIP search method: dynamic search.\n",
      "Parallel mode: deterministic, using up to 8 threads.\n",
      "Root relaxation solution time = 0.00 sec. (0.29 ticks)\n",
      "\n",
      "        Nodes                                         Cuts/\n",
      "   Node  Left     Objective  IInf  Best Integer    Best Bound    ItCnt     Gap\n",
      "\n",
      "*     0+    0                           41.0000        0.0000           100.00%\n",
      "*     0+    0                           20.4000        0.0000           100.00%\n",
      "      0     0        6.7333    18       20.4000        6.7333       15   66.99%\n",
      "      0     0        6.7333    18       20.4000      Cuts: 14       21   66.99%\n",
      "      0     0        6.7667    18       20.4000       Cuts: 7       40   66.83%\n",
      "      0     0        6.8154    20       20.4000  ZeroHalf: 16       44   66.59%\n",
      "*     0+    0                           20.2000        6.8154            66.26%\n",
      "      0     0        6.8333    18       20.2000  ZeroHalf: 16       48   66.17%\n",
      "      0     0        6.9111    21       20.2000   ZeroHalf: 7       53   65.79%\n",
      "      0     0        8.7667    15       20.2000   ZeroHalf: 9       85   56.60%\n",
      "      0     0        8.7667    15       20.2000   ZeroHalf: 6       87   56.60%\n",
      "      0     0        cutoff             20.2000       20.2000       87    0.00%\n",
      "Elapsed time = 0.09 sec. (11.08 ticks, tree = 0.01 MB, solutions = 3)\n",
      "\n",
      "Zero-half cuts applied:  12\n",
      "\n",
      "Root node processing (before b&c):\n",
      "  Real time             =    0.11 sec. (11.09 ticks)\n",
      "Parallel b&c, 8 threads:\n",
      "  Real time             =    0.00 sec. (0.00 ticks)\n",
      "  Sync time (average)   =    0.00 sec.\n",
      "  Wait time (average)   =    0.00 sec.\n",
      "                          ------------\n",
      "Total (root+branch&cut) =    0.11 sec. (11.09 ticks)\n"
     ]
    }
   ],
   "source": [
    "solucion = mdl.solve(log_output=True)"
   ]
  },
  {
   "cell_type": "code",
   "execution_count": 22,
   "metadata": {},
   "outputs": [
    {
     "name": "stdout",
     "output_type": "stream",
     "text": [
      "solution for: larc\n",
      "objective: 20.200\n",
      "cont_1 = 1\n",
      "cont_3 = 1\n",
      "cont_4 = 1\n",
      "xik_0_3 = 1\n",
      "xik_1_1 = 1\n",
      "xik_2_3 = 1\n",
      "xik_3_3 = 1\n",
      "xik_4_4 = 1\n",
      "xik_5_4 = 1\n"
     ]
    }
   ],
   "source": [
    "solucion.display()"
   ]
  },
  {
   "cell_type": "code",
   "execution_count": 23,
   "metadata": {},
   "outputs": [
    {
     "name": "stdout",
     "output_type": "stream",
     "text": [
      "\\ This file has been generated by DOcplex\n",
      "\\ ENCODING=ISO-8859-1\n",
      "\\Problem name: larc\n",
      "\n",
      "Minimize\n",
      " obj: [ 4.800000000000 cont_0*xik_0_1 + 4.933333333333 cont_0*xik_0_2\n",
      "      + 3.866666666667 cont_0*xik_0_3 + 4.933333333333 cont_0*xik_0_4\n",
      "      + 4.800000000000 cont_0*xik_0_5 + 4.800000000000 cont_0*xik_1_0\n",
      "      + 4.800000000000 cont_0*xik_1_2 + 4.933333333333 cont_0*xik_1_3\n",
      "      + 6.700000000000 cont_0*xik_1_4 + 6.100000000000 cont_0*xik_1_5\n",
      "      + 4.933333333333 cont_0*xik_2_0 + 4.800000000000 cont_0*xik_2_1\n",
      "      + 4.800000000000 cont_0*xik_2_3 + 6.100000000000 cont_0*xik_2_4\n",
      "      + 6.700000000000 cont_0*xik_2_5 + 3.866666666667 cont_0*xik_3_0\n",
      "      + 4.933333333333 cont_0*xik_3_1 + 4.800000000000 cont_0*xik_3_2\n",
      "      + 4.800000000000 cont_0*xik_3_4 + 4.933333333333 cont_0*xik_3_5\n",
      "      + 4.933333333333 cont_0*xik_4_0 + 6.700000000000 cont_0*xik_4_1\n",
      "      + 6.100000000000 cont_0*xik_4_2 + 4.800000000000 cont_0*xik_4_3\n",
      "      + 4.800000000000 cont_0*xik_4_5 + 4.800000000000 cont_0*xik_5_0\n",
      "      + 6.100000000000 cont_0*xik_5_1 + 6.700000000000 cont_0*xik_5_2\n",
      "      + 4.933333333333 cont_0*xik_5_3 + 4.800000000000 cont_0*xik_5_4\n",
      "      + 4.800000000000 cont_1*xik_0_1 + 4.933333333333 cont_1*xik_0_2\n",
      "      + 3.866666666667 cont_1*xik_0_3 + 4.933333333333 cont_1*xik_0_4\n",
      "      + 4.800000000000 cont_1*xik_0_5 + 4.800000000000 cont_1*xik_1_0\n",
      "      + 4.800000000000 cont_1*xik_1_2 + 4.933333333333 cont_1*xik_1_3\n",
      "      + 6.700000000000 cont_1*xik_1_4 + 6.100000000000 cont_1*xik_1_5\n",
      "      + 4.933333333333 cont_1*xik_2_0 + 4.800000000000 cont_1*xik_2_1\n",
      "      + 4.800000000000 cont_1*xik_2_3 + 6.100000000000 cont_1*xik_2_4\n",
      "      + 6.700000000000 cont_1*xik_2_5 + 3.866666666667 cont_1*xik_3_0\n",
      "      + 4.933333333333 cont_1*xik_3_1 + 4.800000000000 cont_1*xik_3_2\n",
      "      + 4.800000000000 cont_1*xik_3_4 + 4.933333333333 cont_1*xik_3_5\n",
      "      + 4.933333333333 cont_1*xik_4_0 + 6.700000000000 cont_1*xik_4_1\n",
      "      + 6.100000000000 cont_1*xik_4_2 + 4.800000000000 cont_1*xik_4_3\n",
      "      + 4.800000000000 cont_1*xik_4_5 + 4.800000000000 cont_1*xik_5_0\n",
      "      + 6.100000000000 cont_1*xik_5_1 + 6.700000000000 cont_1*xik_5_2\n",
      "      + 4.933333333333 cont_1*xik_5_3 + 4.800000000000 cont_1*xik_5_4\n",
      "      + 4.800000000000 cont_2*xik_0_1 + 4.933333333333 cont_2*xik_0_2\n",
      "      + 3.866666666667 cont_2*xik_0_3 + 4.933333333333 cont_2*xik_0_4\n",
      "      + 4.800000000000 cont_2*xik_0_5 + 4.800000000000 cont_2*xik_1_0\n",
      "      + 4.800000000000 cont_2*xik_1_2 + 4.933333333333 cont_2*xik_1_3\n",
      "      + 6.700000000000 cont_2*xik_1_4 + 6.100000000000 cont_2*xik_1_5\n",
      "      + 4.933333333333 cont_2*xik_2_0 + 4.800000000000 cont_2*xik_2_1\n",
      "      + 4.800000000000 cont_2*xik_2_3 + 6.100000000000 cont_2*xik_2_4\n",
      "      + 6.700000000000 cont_2*xik_2_5 + 3.866666666667 cont_2*xik_3_0\n",
      "      + 4.933333333333 cont_2*xik_3_1 + 4.800000000000 cont_2*xik_3_2\n",
      "      + 4.800000000000 cont_2*xik_3_4 + 4.933333333333 cont_2*xik_3_5\n",
      "      + 4.933333333333 cont_2*xik_4_0 + 6.700000000000 cont_2*xik_4_1\n",
      "      + 6.100000000000 cont_2*xik_4_2 + 4.800000000000 cont_2*xik_4_3\n",
      "      + 4.800000000000 cont_2*xik_4_5 + 4.800000000000 cont_2*xik_5_0\n",
      "      + 6.100000000000 cont_2*xik_5_1 + 6.700000000000 cont_2*xik_5_2\n",
      "      + 4.933333333333 cont_2*xik_5_3 + 4.800000000000 cont_2*xik_5_4\n",
      "      + 4.800000000000 cont_3*xik_0_1 + 4.933333333333 cont_3*xik_0_2\n",
      "      + 3.866666666667 cont_3*xik_0_3 + 4.933333333333 cont_3*xik_0_4\n",
      "      + 4.800000000000 cont_3*xik_0_5 + 4.800000000000 cont_3*xik_1_0\n",
      "      + 4.800000000000 cont_3*xik_1_2 + 4.933333333333 cont_3*xik_1_3\n",
      "      + 6.700000000000 cont_3*xik_1_4 + 6.100000000000 cont_3*xik_1_5\n",
      "      + 4.933333333333 cont_3*xik_2_0 + 4.800000000000 cont_3*xik_2_1\n",
      "      + 4.800000000000 cont_3*xik_2_3 + 6.100000000000 cont_3*xik_2_4\n",
      "      + 6.700000000000 cont_3*xik_2_5 + 3.866666666667 cont_3*xik_3_0\n",
      "      + 4.933333333333 cont_3*xik_3_1 + 4.800000000000 cont_3*xik_3_2\n",
      "      + 4.800000000000 cont_3*xik_3_4 + 4.933333333333 cont_3*xik_3_5\n",
      "      + 4.933333333333 cont_3*xik_4_0 + 6.700000000000 cont_3*xik_4_1\n",
      "      + 6.100000000000 cont_3*xik_4_2 + 4.800000000000 cont_3*xik_4_3\n",
      "      + 4.800000000000 cont_3*xik_4_5 + 4.800000000000 cont_3*xik_5_0\n",
      "      + 6.100000000000 cont_3*xik_5_1 + 6.700000000000 cont_3*xik_5_2\n",
      "      + 4.933333333333 cont_3*xik_5_3 + 4.800000000000 cont_3*xik_5_4\n",
      "      + 4.800000000000 cont_4*xik_0_1 + 4.933333333333 cont_4*xik_0_2\n",
      "      + 3.866666666667 cont_4*xik_0_3 + 4.933333333333 cont_4*xik_0_4\n",
      "      + 4.800000000000 cont_4*xik_0_5 + 4.800000000000 cont_4*xik_1_0\n",
      "      + 4.800000000000 cont_4*xik_1_2 + 4.933333333333 cont_4*xik_1_3\n",
      "      + 6.700000000000 cont_4*xik_1_4 + 6.100000000000 cont_4*xik_1_5\n",
      "      + 4.933333333333 cont_4*xik_2_0 + 4.800000000000 cont_4*xik_2_1\n",
      "      + 4.800000000000 cont_4*xik_2_3 + 6.100000000000 cont_4*xik_2_4\n",
      "      + 6.700000000000 cont_4*xik_2_5 + 3.866666666667 cont_4*xik_3_0\n",
      "      + 4.933333333333 cont_4*xik_3_1 + 4.800000000000 cont_4*xik_3_2\n",
      "      + 4.800000000000 cont_4*xik_3_4 + 4.933333333333 cont_4*xik_3_5\n",
      "      + 4.933333333333 cont_4*xik_4_0 + 6.700000000000 cont_4*xik_4_1\n",
      "      + 6.100000000000 cont_4*xik_4_2 + 4.800000000000 cont_4*xik_4_3\n",
      "      + 4.800000000000 cont_4*xik_4_5 + 4.800000000000 cont_4*xik_5_0\n",
      "      + 6.100000000000 cont_4*xik_5_1 + 6.700000000000 cont_4*xik_5_2\n",
      "      + 4.933333333333 cont_4*xik_5_3 + 4.800000000000 cont_4*xik_5_4\n",
      "      + 4.800000000000 cont_5*xik_0_1 + 4.933333333333 cont_5*xik_0_2\n",
      "      + 3.866666666667 cont_5*xik_0_3 + 4.933333333333 cont_5*xik_0_4\n",
      "      + 4.800000000000 cont_5*xik_0_5 + 4.800000000000 cont_5*xik_1_0\n",
      "      + 4.800000000000 cont_5*xik_1_2 + 4.933333333333 cont_5*xik_1_3\n",
      "      + 6.700000000000 cont_5*xik_1_4 + 6.100000000000 cont_5*xik_1_5\n",
      "      + 4.933333333333 cont_5*xik_2_0 + 4.800000000000 cont_5*xik_2_1\n",
      "      + 4.800000000000 cont_5*xik_2_3 + 6.100000000000 cont_5*xik_2_4\n",
      "      + 6.700000000000 cont_5*xik_2_5 + 3.866666666667 cont_5*xik_3_0\n",
      "      + 4.933333333333 cont_5*xik_3_1 + 4.800000000000 cont_5*xik_3_2\n",
      "      + 4.800000000000 cont_5*xik_3_4 + 4.933333333333 cont_5*xik_3_5\n",
      "      + 4.933333333333 cont_5*xik_4_0 + 6.700000000000 cont_5*xik_4_1\n",
      "      + 6.100000000000 cont_5*xik_4_2 + 4.800000000000 cont_5*xik_4_3\n",
      "      + 4.800000000000 cont_5*xik_4_5 + 4.800000000000 cont_5*xik_5_0\n",
      "      + 6.100000000000 cont_5*xik_5_1 + 6.700000000000 cont_5*xik_5_2\n",
      "      + 4.933333333333 cont_5*xik_5_3 + 4.800000000000 cont_5*xik_5_4 ]/2\n",
      "Subject To\n",
      " c1: cont_0 + cont_1 + cont_2 + cont_3 + cont_4 + cont_5 = 2\n",
      " c2: xik_0_1 + xik_0_2 + xik_0_3 + xik_0_4 + xik_0_5 = 1\n",
      " c3: xik_1_0 + xik_1_2 + xik_1_3 + xik_1_4 + xik_1_5 = 1\n",
      " c4: xik_2_0 + xik_2_1 + xik_2_3 + xik_2_4 + xik_2_5 = 1\n",
      " c5: xik_3_0 + xik_3_1 + xik_3_2 + xik_3_4 + xik_3_5 = 1\n",
      " c6: xik_4_0 + xik_4_1 + xik_4_2 + xik_4_3 + xik_4_5 = 1\n",
      " c7: xik_5_0 + xik_5_1 + xik_5_2 + xik_5_3 + xik_5_4 = 1\n",
      " lc31: cont_0 = 0 -> xik_1_0 = 0\n",
      " lc32: cont_0 = 0 -> xik_2_0 = 0\n",
      " lc33: cont_0 = 0 -> xik_3_0 = 0\n",
      " lc34: cont_0 = 0 -> xik_4_0 = 0\n",
      " lc35: cont_0 = 0 -> xik_5_0 = 0\n",
      " lc36: cont_1 = 0 -> xik_0_1 = 0\n",
      " lc37: cont_1 = 0 -> xik_2_1 = 0\n",
      " lc38: cont_1 = 0 -> xik_3_1 = 0\n",
      " lc39: cont_1 = 0 -> xik_4_1 = 0\n",
      " lc40: cont_1 = 0 -> xik_5_1 = 0\n",
      " lc41: cont_2 = 0 -> xik_0_2 = 0\n",
      " lc42: cont_2 = 0 -> xik_1_2 = 0\n",
      " lc43: cont_2 = 0 -> xik_3_2 = 0\n",
      " lc44: cont_2 = 0 -> xik_4_2 = 0\n",
      " lc45: cont_2 = 0 -> xik_5_2 = 0\n",
      " lc46: cont_3 = 0 -> xik_0_3 = 0\n",
      " lc47: cont_3 = 0 -> xik_1_3 = 0\n",
      " lc48: cont_3 = 0 -> xik_2_3 = 0\n",
      " lc49: cont_3 = 0 -> xik_4_3 = 0\n",
      " lc50: cont_3 = 0 -> xik_5_3 = 0\n",
      " lc51: cont_4 = 0 -> xik_0_4 = 0\n",
      " lc52: cont_4 = 0 -> xik_1_4 = 0\n",
      " lc53: cont_4 = 0 -> xik_2_4 = 0\n",
      " lc54: cont_4 = 0 -> xik_3_4 = 0\n",
      " lc55: cont_4 = 0 -> xik_5_4 = 0\n",
      " lc56: cont_5 = 0 -> xik_0_5 = 0\n",
      " lc57: cont_5 = 0 -> xik_1_5 = 0\n",
      " lc58: cont_5 = 0 -> xik_2_5 = 0\n",
      " lc59: cont_5 = 0 -> xik_3_5 = 0\n",
      " lc60: cont_5 = 0 -> xik_4_5 = 0\n",
      " lc31: cont_0 = 0 -> xik_1_0 = 0\n",
      " lc32: cont_0 = 0 -> xik_2_0 = 0\n",
      " lc33: cont_0 = 0 -> xik_3_0 = 0\n",
      " lc34: cont_0 = 0 -> xik_4_0 = 0\n",
      " lc35: cont_0 = 0 -> xik_5_0 = 0\n",
      " lc36: cont_1 = 0 -> xik_0_1 = 0\n",
      " lc37: cont_1 = 0 -> xik_2_1 = 0\n",
      " lc38: cont_1 = 0 -> xik_3_1 = 0\n",
      " lc39: cont_1 = 0 -> xik_4_1 = 0\n",
      " lc40: cont_1 = 0 -> xik_5_1 = 0\n",
      " lc41: cont_2 = 0 -> xik_0_2 = 0\n",
      " lc42: cont_2 = 0 -> xik_1_2 = 0\n",
      " lc43: cont_2 = 0 -> xik_3_2 = 0\n",
      " lc44: cont_2 = 0 -> xik_4_2 = 0\n",
      " lc45: cont_2 = 0 -> xik_5_2 = 0\n",
      " lc46: cont_3 = 0 -> xik_0_3 = 0\n",
      " lc47: cont_3 = 0 -> xik_1_3 = 0\n",
      " lc48: cont_3 = 0 -> xik_2_3 = 0\n",
      " lc49: cont_3 = 0 -> xik_4_3 = 0\n",
      " lc50: cont_3 = 0 -> xik_5_3 = 0\n",
      " lc51: cont_4 = 0 -> xik_0_4 = 0\n",
      " lc52: cont_4 = 0 -> xik_1_4 = 0\n",
      " lc53: cont_4 = 0 -> xik_2_4 = 0\n",
      " lc54: cont_4 = 0 -> xik_3_4 = 0\n",
      " lc55: cont_4 = 0 -> xik_5_4 = 0\n",
      " lc56: cont_5 = 0 -> xik_0_5 = 0\n",
      " lc57: cont_5 = 0 -> xik_1_5 = 0\n",
      " lc58: cont_5 = 0 -> xik_2_5 = 0\n",
      " lc59: cont_5 = 0 -> xik_3_5 = 0\n",
      " lc60: cont_5 = 0 -> xik_4_5 = 0\n",
      "\n",
      "Bounds\n",
      " 0 <= switch_0 <= 1\n",
      " 0 <= switch_1 <= 1\n",
      " 0 <= switch_2 <= 1\n",
      " 0 <= switch_3 <= 1\n",
      " 0 <= switch_4 <= 1\n",
      " 0 <= switch_5 <= 1\n",
      " 0 <= cont_0 <= 1\n",
      " 0 <= cont_1 <= 1\n",
      " 0 <= cont_2 <= 1\n",
      " 0 <= cont_3 <= 1\n",
      " 0 <= cont_4 <= 1\n",
      " 0 <= cont_5 <= 1\n",
      " 0 <= yik_0_0 <= 1\n",
      " 0 <= yik_1_1 <= 1\n",
      " 0 <= yik_2_2 <= 1\n",
      " 0 <= yik_3_3 <= 1\n",
      " 0 <= yik_4_4 <= 1\n",
      " 0 <= yik_5_5 <= 1\n",
      " 0 <= xik_0_0 <= 1\n",
      " 0 <= xik_0_1 <= 1\n",
      " 0 <= xik_0_2 <= 1\n",
      " 0 <= xik_0_3 <= 1\n",
      " 0 <= xik_0_4 <= 1\n",
      " 0 <= xik_0_5 <= 1\n",
      " 0 <= xik_1_0 <= 1\n",
      " 0 <= xik_1_1 <= 1\n",
      " 0 <= xik_1_2 <= 1\n",
      " 0 <= xik_1_3 <= 1\n",
      " 0 <= xik_1_4 <= 1\n",
      " 0 <= xik_1_5 <= 1\n",
      " 0 <= xik_2_0 <= 1\n",
      " 0 <= xik_2_1 <= 1\n",
      " 0 <= xik_2_2 <= 1\n",
      " 0 <= xik_2_3 <= 1\n",
      " 0 <= xik_2_4 <= 1\n",
      " 0 <= xik_2_5 <= 1\n",
      " 0 <= xik_3_0 <= 1\n",
      " 0 <= xik_3_1 <= 1\n",
      " 0 <= xik_3_2 <= 1\n",
      " 0 <= xik_3_3 <= 1\n",
      " 0 <= xik_3_4 <= 1\n",
      " 0 <= xik_3_5 <= 1\n",
      " 0 <= xik_4_0 <= 1\n",
      " 0 <= xik_4_1 <= 1\n",
      " 0 <= xik_4_2 <= 1\n",
      " 0 <= xik_4_3 <= 1\n",
      " 0 <= xik_4_4 <= 1\n",
      " 0 <= xik_4_5 <= 1\n",
      " 0 <= xik_5_0 <= 1\n",
      " 0 <= xik_5_1 <= 1\n",
      " 0 <= xik_5_2 <= 1\n",
      " 0 <= xik_5_3 <= 1\n",
      " 0 <= xik_5_4 <= 1\n",
      " 0 <= xik_5_5 <= 1\n",
      "\n",
      "Binaries\n",
      " switch_0 switch_1 switch_2 switch_3 switch_4 switch_5 cont_0 cont_1 cont_2\n",
      " cont_3 cont_4 cont_5 yik_0_0 yik_1_1 yik_2_2 yik_3_3 yik_4_4 yik_5_5 xik_0_0\n",
      " xik_0_1 xik_0_2 xik_0_3 xik_0_4 xik_0_5 xik_1_0 xik_1_1 xik_1_2 xik_1_3 xik_1_4\n",
      " xik_1_5 xik_2_0 xik_2_1 xik_2_2 xik_2_3 xik_2_4 xik_2_5 xik_3_0 xik_3_1 xik_3_2\n",
      " xik_3_3 xik_3_4 xik_3_5 xik_4_0 xik_4_1 xik_4_2 xik_4_3 xik_4_4 xik_4_5 xik_5_0\n",
      " xik_5_1 xik_5_2 xik_5_3 xik_5_4 xik_5_5\n",
      "End\n",
      "\n"
     ]
    }
   ],
   "source": [
    "print(mdl.export_to_string())"
   ]
  },
  {
   "cell_type": "code",
   "execution_count": null,
   "metadata": {},
   "outputs": [],
   "source": []
  }
 ],
 "metadata": {
  "kernelspec": {
   "display_name": "Python 3",
   "language": "python",
   "name": "python3"
  },
  "language_info": {
   "codemirror_mode": {
    "name": "ipython",
    "version": 3
   },
   "file_extension": ".py",
   "mimetype": "text/x-python",
   "name": "python",
   "nbconvert_exporter": "python",
   "pygments_lexer": "ipython3",
   "version": "3.7.3"
  }
 },
 "nbformat": 4,
 "nbformat_minor": 2
}
